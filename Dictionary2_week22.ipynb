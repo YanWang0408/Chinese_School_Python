{
 "cells": [
  {
   "cell_type": "markdown",
   "metadata": {},
   "source": [
    "# Homework review "
   ]
  },
  {
   "cell_type": "code",
   "execution_count": null,
   "metadata": {},
   "outputs": [],
   "source": [
    "Homework: \n",
    "I attached a text file named letters.txt to this email. Read this file into your Jupyter Notebook. \n",
    "Read the content in the letters.txt file to a list called letters. \n",
    "Create a dictionary from this list. Count the number of times the letter 'A' appears in the letters list.\n",
    "\n",
    "Hint:\n",
    "1. use the append() function to create a list\n",
    "2. refer to code line 25 in the class notes to create a dictionary\n",
    "3. use the key('A') to look up the corresponding values\n",
    "\n",
    "Expected answer:\n",
    "Letter A showed up 91 times."
   ]
  },
  {
   "cell_type": "code",
   "execution_count": 12,
   "metadata": {},
   "outputs": [],
   "source": [
    "l=open(\"Letters.txt\",\"r\")\n",
    "letters=l.read()"
   ]
  },
  {
   "cell_type": "code",
   "execution_count": 13,
   "metadata": {},
   "outputs": [
    {
     "name": "stdout",
     "output_type": "stream",
     "text": [
      "91\n"
     ]
    }
   ],
   "source": [
    "letters_dictionary={x:letters.count(x) for x in letters}\n",
    "print(letters_dictionary['A'])"
   ]
  },
  {
   "cell_type": "code",
   "execution_count": 15,
   "metadata": {},
   "outputs": [],
   "source": [
    "letters = open('letters.txt').read().splitlines()"
   ]
  },
  {
   "cell_type": "code",
   "execution_count": 16,
   "metadata": {},
   "outputs": [
    {
     "name": "stdout",
     "output_type": "stream",
     "text": [
      "Letter A showed up 91 times.\n"
     ]
    }
   ],
   "source": [
    "lcount = {l:letters.count(l) for l in letters}\n",
    "print(f'Letter A showed up {lcount[\"A\"]} times.')"
   ]
  },
  {
   "cell_type": "code",
   "execution_count": null,
   "metadata": {},
   "outputs": [],
   "source": [
    "# quiz"
   ]
  },
  {
   "cell_type": "code",
   "execution_count": 22,
   "metadata": {},
   "outputs": [],
   "source": [
    "# 1. Select the correct way to print Emma’s age.\n",
    "\n",
    "student = {1: {'name': 'Emma', 'age': '27', 'sex': 'Female'},\n",
    "           2: {'name': 'Mike', 'age': '22', 'sex': 'Male'}}\n",
    "\n"
   ]
  },
  {
   "cell_type": "code",
   "execution_count": null,
   "metadata": {},
   "outputs": [],
   "source": [
    "A. student[0][1]\n",
    "B. student[1][\"age\"]\n",
    "C. student[0][\"age\"]"
   ]
  },
  {
   "cell_type": "code",
   "execution_count": 23,
   "metadata": {},
   "outputs": [
    {
     "data": {
      "text/plain": [
       "'27'"
      ]
     },
     "execution_count": 23,
     "metadata": {},
     "output_type": "execute_result"
    }
   ],
   "source": [
    "# B\n",
    "student[1][\"age\"] "
   ]
  },
  {
   "cell_type": "code",
   "execution_count": 39,
   "metadata": {},
   "outputs": [],
   "source": [
    "# 2. Select the correct ways to get the value of marks key.\n",
    "student = {\n",
    "  \"name\": \"Emma\",\n",
    "  \"class\": 9,\n",
    "  \"marks\": 75,\n",
    "    2: \"Sunday\"\n",
    "}\n"
   ]
  },
  {
   "cell_type": "code",
   "execution_count": null,
   "metadata": {},
   "outputs": [],
   "source": [
    "A. m = student.get(2)\n",
    "B. m = student.get('marks')\n",
    "C. m = student[2])\n",
    "D. m = student['marks'])"
   ]
  },
  {
   "cell_type": "code",
   "execution_count": 29,
   "metadata": {},
   "outputs": [
    {
     "data": {
      "text/plain": [
       "'Sunday'"
      ]
     },
     "execution_count": 29,
     "metadata": {},
     "output_type": "execute_result"
    }
   ],
   "source": [
    "student.get(2)"
   ]
  },
  {
   "cell_type": "code",
   "execution_count": 40,
   "metadata": {},
   "outputs": [
    {
     "data": {
      "text/plain": [
       "'Emma'"
      ]
     },
     "execution_count": 40,
     "metadata": {},
     "output_type": "execute_result"
    }
   ],
   "source": [
    "student.get('name')"
   ]
  },
  {
   "cell_type": "code",
   "execution_count": 44,
   "metadata": {},
   "outputs": [
    {
     "name": "stdout",
     "output_type": "stream",
     "text": [
      "[5, 10, 15, 25]\n",
      "[5, 15]\n",
      "[25, 15, 10, 5]\n",
      "[25, 10]\n"
     ]
    }
   ],
   "source": [
    "# 3. What is the output of the following\n",
    "\n",
    "aList = [5, 10, 15, 25]\n",
    "print(aList[:])\n",
    "print(aList[::2])\n",
    "print(aList[::-1])\n",
    "print(aList[::-2])"
   ]
  },
  {
   "cell_type": "code",
   "execution_count": null,
   "metadata": {},
   "outputs": [],
   "source": [
    "A. [15, 10, 5]\n",
    "B. [10, 5]\n",
    "C. [25, 10]"
   ]
  },
  {
   "cell_type": "code",
   "execution_count": 34,
   "metadata": {},
   "outputs": [
    {
     "name": "stdout",
     "output_type": "stream",
     "text": [
      "[10, 20, 30, 40, 50, 60]\n",
      "[10, 20, 30, 40, 50, 60, 60]\n"
     ]
    }
   ],
   "source": [
    "# 4. What is the output of the following list function?\n",
    "sampleList = [10, 20, 30, 40, 50]\n",
    "sampleList.append(60)\n",
    "print(sampleList)\n",
    "\n",
    "sampleList.append(60)\n",
    "print(sampleList)"
   ]
  },
  {
   "cell_type": "code",
   "execution_count": null,
   "metadata": {},
   "outputs": [],
   "source": [
    "\n",
    "A. [10, 20, 30, 40, 50, 60]\n",
    "   [10, 20, 30, 40, 50, 60]\n",
    "    \n",
    "B. [10, 20, 30, 40, 50, 60]\n",
    "   [10, 20, 30, 40, 50, 60, 60]"
   ]
  },
  {
   "cell_type": "code",
   "execution_count": 41,
   "metadata": {},
   "outputs": [
    {
     "name": "stdout",
     "output_type": "stream",
     "text": [
      "WelcomeWelcome\n"
     ]
    }
   ],
   "source": [
    "# 5. Guess the correct output of the following String operations\n",
    "\n",
    "str1 = 'Welcome'\n",
    "print(str1*2)\n"
   ]
  },
  {
   "cell_type": "code",
   "execution_count": null,
   "metadata": {},
   "outputs": [],
   "source": [
    "A. WelcomeWelcome\n",
    "B. TypeError: unsupported operand type(s) for * or pow(): 'str' and 'int'"
   ]
  },
  {
   "cell_type": "code",
   "execution_count": 42,
   "metadata": {},
   "outputs": [
    {
     "name": "stdout",
     "output_type": "stream",
     "text": [
      "True\n"
     ]
    }
   ],
   "source": [
    "#6. What is the output of the following code\n",
    "\n",
    "dict1 = {\"key1\":1, \"key2\":2}\n",
    "dict2 = {\"key2\":2, \"key1\":1}\n",
    "print(dict1 == dict2)\n"
   ]
  },
  {
   "cell_type": "code",
   "execution_count": null,
   "metadata": {},
   "outputs": [],
   "source": [
    "A. True\n",
    "B. False"
   ]
  },
  {
   "cell_type": "code",
   "execution_count": null,
   "metadata": {},
   "outputs": [],
   "source": []
  },
  {
   "cell_type": "code",
   "execution_count": null,
   "metadata": {},
   "outputs": [],
   "source": []
  }
 ],
 "metadata": {
  "kernelspec": {
   "display_name": "Python 3",
   "language": "python",
   "name": "python3"
  },
  "language_info": {
   "codemirror_mode": {
    "name": "ipython",
    "version": 3
   },
   "file_extension": ".py",
   "mimetype": "text/x-python",
   "name": "python",
   "nbconvert_exporter": "python",
   "pygments_lexer": "ipython3",
   "version": "3.8.6"
  }
 },
 "nbformat": 4,
 "nbformat_minor": 4
}
