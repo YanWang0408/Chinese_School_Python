{
 "cells": [
  {
   "cell_type": "code",
   "execution_count": null,
   "metadata": {},
   "outputs": [],
   "source": [
    "# New teacher name: Yan Wang 王岩\n",
    "# class interaction: unmute yourself to speak up or type in the chat\n",
    "# homework submission deadline: 8pm Saturday"
   ]
  },
  {
   "cell_type": "markdown",
   "metadata": {},
   "source": [
    "## homework review"
   ]
  },
  {
   "cell_type": "code",
   "execution_count": 3,
   "metadata": {},
   "outputs": [
    {
     "name": "stdout",
     "output_type": "stream",
     "text": [
      "oops\n",
      "oops\n",
      "oops\n"
     ]
    }
   ],
   "source": [
    "# 1. rewrite for loop with while loop,print \"opps\" for 3 times\n",
    "# Alex\n",
    "def oop(n): # argument\n",
    "    while n > 0:\n",
    "        print(\"oops\")\n",
    "        n = n-1\n",
    "oop(3)"
   ]
  },
  {
   "cell_type": "code",
   "execution_count": 6,
   "metadata": {},
   "outputs": [
    {
     "name": "stdout",
     "output_type": "stream",
     "text": [
      "oops!\n",
      "oops!\n",
      "oops!\n"
     ]
    }
   ],
   "source": [
    "# Lisa\n",
    "x=1\n",
    "y=4\n",
    "while x<y:\n",
    "    print ('oops!')\n",
    "    x=x+1"
   ]
  },
  {
   "cell_type": "code",
   "execution_count": 10,
   "metadata": {},
   "outputs": [],
   "source": [
    "#2. finish the pass_word guessing game we tested in the class. improve it: return how many times user guessed wrong.\n",
    "# Lisa\n",
    "def password_thing():\n",
    "    count=1\n",
    "    password=input('set your password: ')\n",
    "    password_guess=input('please enter your password:  ')\n",
    "    while password!=password_guess:\n",
    "        count=int(count)\n",
    "        print ('try again')\n",
    "        password_guess=input('input password:  ')\n",
    "        count=count+1\n",
    "    print ('correct')\n",
    "    print ('it took you ', count, 'tries to get the password right')"
   ]
  },
  {
   "cell_type": "code",
   "execution_count": 11,
   "metadata": {},
   "outputs": [
    {
     "name": "stdout",
     "output_type": "stream",
     "text": [
      "set your password: 345\n",
      "please enter your password:  123\n",
      "try again\n",
      "input password:  345\n",
      "correct\n",
      "it took you  2 tries to get the password right\n"
     ]
    }
   ],
   "source": [
    "password_thing()"
   ]
  },
  {
   "cell_type": "code",
   "execution_count": 12,
   "metadata": {},
   "outputs": [
    {
     "name": "stdout",
     "output_type": "stream",
     "text": [
      "What would you like to set your password as?123\n",
      "What is your password?234\n",
      "This password is incorrect.\n",
      "What is your password?123\n",
      "Correct.\n",
      "You got your password wrong 1 times.\n"
     ]
    }
   ],
   "source": [
    "# Alex\n",
    "b = input(\"What would you like to set your password as?\")\n",
    "a = input(\"What is your password?\")\n",
    "n = 0\n",
    "while a != b:\n",
    "    print(\"This password is incorrect.\")\n",
    "    a = input(\"What is your password?\")\n",
    "    n = n + 1\n",
    "\n",
    "print(\"Correct.\")\n",
    "print(\"You got your password wrong\", n ,\"times.\")"
   ]
  },
  {
   "cell_type": "markdown",
   "metadata": {},
   "source": [
    "## Strings"
   ]
  },
  {
   "cell_type": "code",
   "execution_count": null,
   "metadata": {},
   "outputs": [],
   "source": [
    "1. how to define a string\n",
    "2. string indexing\n",
    "3. string related functions"
   ]
  },
  {
   "cell_type": "code",
   "execution_count": null,
   "metadata": {},
   "outputs": [],
   "source": [
    "# Today we will learn about how to work with textual data, textual data in Python are represented with strings.\n",
    "# we will create a variable to hold the textual data.\n",
    "# we can use any variable name and enter the text data inside single quotes, double quotes, triple quotes"
   ]
  },
  {
   "cell_type": "code",
   "execution_count": 17,
   "metadata": {},
   "outputs": [],
   "source": [
    "a = 'my favorite snack is cookie'"
   ]
  },
  {
   "cell_type": "code",
   "execution_count": 14,
   "metadata": {},
   "outputs": [],
   "source": [
    "weather = \"winter\""
   ]
  },
  {
   "cell_type": "code",
   "execution_count": 18,
   "metadata": {},
   "outputs": [],
   "source": [
    "date = \"\"\"Today is \n",
    "Sunday!\"\"\" #  when you text data is more than one line. you can use triple quote."
   ]
  },
  {
   "cell_type": "code",
   "execution_count": 19,
   "metadata": {},
   "outputs": [
    {
     "name": "stdout",
     "output_type": "stream",
     "text": [
      "Today is \n",
      "Sunday!\n"
     ]
    }
   ],
   "source": [
    "print(date)"
   ]
  },
  {
   "cell_type": "code",
   "execution_count": 24,
   "metadata": {},
   "outputs": [],
   "source": [
    "# what about the strings it already has single quote inside it?\n",
    "plan = \"we're going to the park, let's eat ice cream\""
   ]
  },
  {
   "cell_type": "code",
   "execution_count": 25,
   "metadata": {},
   "outputs": [
    {
     "name": "stdout",
     "output_type": "stream",
     "text": [
      "we're going to the park, let's eat ice cream\n"
     ]
    }
   ],
   "source": [
    "print(plan)"
   ]
  },
  {
   "cell_type": "code",
   "execution_count": null,
   "metadata": {},
   "outputs": [],
   "source": [
    "# Python takes the second single quote as the ending for the string, \n",
    "# so the plan variable will become to we instead of we are going to the park\n",
    "# when this happens, we will need to add a escape sign infornt of the single quote inside the string\n",
    "# you can use backward slash to escape it\n",
    "\n",
    "# you will have to put it infornt of all the sigle quote,  let's eat ice cream\n",
    "# another way to solve this issue is to use doule quote when define plan variable\n",
    "# this way python will ignore the sigle quotes"
   ]
  },
  {
   "cell_type": "code",
   "execution_count": null,
   "metadata": {},
   "outputs": [],
   "source": [
    "# string indexing\n",
    "# we can access the characters with the square bracket operator, the expression inside the brackets is called an index\n",
    "# index start with 0"
   ]
  },
  {
   "cell_type": "code",
   "execution_count": 26,
   "metadata": {},
   "outputs": [],
   "source": [
    "snack = 'COOKIES'"
   ]
  },
  {
   "cell_type": "code",
   "execution_count": 27,
   "metadata": {},
   "outputs": [
    {
     "data": {
      "text/plain": [
       "'E'"
      ]
     },
     "execution_count": 27,
     "metadata": {},
     "output_type": "execute_result"
    }
   ],
   "source": [
    "# which letter will return when ask for index number 5 letter\n",
    "snack[5]"
   ]
  },
  {
   "cell_type": "code",
   "execution_count": 28,
   "metadata": {},
   "outputs": [
    {
     "data": {
      "text/plain": [
       "'OOKI'"
      ]
     },
     "execution_count": 28,
     "metadata": {},
     "output_type": "execute_result"
    }
   ],
   "source": [
    "# return a subset of the string, we use colon in between the starting and the ending index \n",
    "# the number of the ending index is omiited. 1:5 = 1234\n",
    "snack[1:5]"
   ]
  },
  {
   "cell_type": "code",
   "execution_count": 29,
   "metadata": {},
   "outputs": [
    {
     "data": {
      "text/plain": [
       "'OOKIES'"
      ]
     },
     "execution_count": 29,
     "metadata": {},
     "output_type": "execute_result"
    }
   ],
   "source": [
    "# from the second letter to the rest of the letter || you can keep the ending index as empty\n",
    "snack[1:]"
   ]
  },
  {
   "cell_type": "code",
   "execution_count": 30,
   "metadata": {},
   "outputs": [
    {
     "data": {
      "text/plain": [
       "'OOKI'"
      ]
     },
     "execution_count": 30,
     "metadata": {},
     "output_type": "execute_result"
    }
   ],
   "source": [
    "# you can also use nagative number index, it started as -1 from the last character of your string variable\n",
    "# but you should \n",
    "snack[-6:-2]"
   ]
  },
  {
   "cell_type": "code",
   "execution_count": 31,
   "metadata": {},
   "outputs": [
    {
     "data": {
      "text/plain": [
       "'COI'"
      ]
     },
     "execution_count": 31,
     "metadata": {},
     "output_type": "execute_result"
    }
   ],
   "source": [
    "# skip indexing, add one more colon to address the steps|| 0 to 4 index, skip every 2 steps: 024\n",
    "snack[0:5:2]"
   ]
  },
  {
   "attachments": {
    "index.png": {
     "image/png": "[encoded data removed]"
    }
   },
   "cell_type": "markdown",
   "metadata": {},
   "source": [
    "![index.png](attachment:index.png)"
   ]
  },
  {
   "cell_type": "code",
   "execution_count": 36,
   "metadata": {},
   "outputs": [
    {
     "data": {
      "text/plain": [
       "'COOKI'"
      ]
     },
     "execution_count": 36,
     "metadata": {},
     "output_type": "execute_result"
    }
   ],
   "source": [
    "# question: how to use indexing to return the full string\n",
    "snack[:5]"
   ]
  },
  {
   "cell_type": "code",
   "execution_count": 37,
   "metadata": {},
   "outputs": [
    {
     "data": {
      "text/plain": [
       "'SEIKOOC'"
      ]
     },
     "execution_count": 37,
     "metadata": {},
     "output_type": "execute_result"
    }
   ],
   "source": [
    "# here you are a little reverse string trick, it is fun\n",
    "snack[::-1]"
   ]
  },
  {
   "cell_type": "code",
   "execution_count": null,
   "metadata": {},
   "outputs": [],
   "source": [
    "# let me intriduce few functions which helps you to manipulate strings"
   ]
  },
  {
   "cell_type": "code",
   "execution_count": 42,
   "metadata": {},
   "outputs": [],
   "source": [
    "# to check what is the length of your string variable, we use len(), note: all elements count, including space\n",
    "weather = 'winter'"
   ]
  },
  {
   "cell_type": "code",
   "execution_count": 43,
   "metadata": {},
   "outputs": [
    {
     "data": {
      "text/plain": [
       "6"
      ]
     },
     "execution_count": 43,
     "metadata": {},
     "output_type": "execute_result"
    }
   ],
   "source": [
    "len(weather)"
   ]
  },
  {
   "cell_type": "code",
   "execution_count": 44,
   "metadata": {},
   "outputs": [
    {
     "data": {
      "text/plain": [
       "str"
      ]
     },
     "execution_count": 44,
     "metadata": {},
     "output_type": "execute_result"
    }
   ],
   "source": [
    "# To verify the type of the varibles we defined, we use type() function\n",
    "type(plan)"
   ]
  },
  {
   "cell_type": "code",
   "execution_count": 46,
   "metadata": {},
   "outputs": [
    {
     "data": {
      "text/plain": [
       "str"
      ]
     },
     "execution_count": 46,
     "metadata": {},
     "output_type": "execute_result"
    }
   ],
   "source": [
    "# to check the data type of your variable\n",
    "number = 'False'\n",
    "type(number)"
   ]
  },
  {
   "cell_type": "code",
   "execution_count": 48,
   "metadata": {},
   "outputs": [
    {
     "data": {
      "text/plain": [
       "1"
      ]
     },
     "execution_count": 48,
     "metadata": {},
     "output_type": "execute_result"
    }
   ],
   "source": [
    "# to count how many times a charecter showed up in your string variable\n",
    "snack.count('C')"
   ]
  },
  {
   "cell_type": "code",
   "execution_count": 51,
   "metadata": {},
   "outputs": [
    {
     "data": {
      "text/plain": [
       "'my favorite season is winter'"
      ]
     },
     "execution_count": 51,
     "metadata": {},
     "output_type": "execute_result"
    }
   ],
   "source": [
    "# to replace a character inside your string\n",
    "a = 'my favorite season is winter'\n",
    "a"
   ]
  },
  {
   "cell_type": "code",
   "execution_count": 52,
   "metadata": {},
   "outputs": [
    {
     "data": {
      "text/plain": [
       "'my favorite season is summer'"
      ]
     },
     "execution_count": 52,
     "metadata": {},
     "output_type": "execute_result"
    }
   ],
   "source": [
    "a = a.replace('winter', 'summer')\n",
    "a"
   ]
  },
  {
   "cell_type": "code",
   "execution_count": 53,
   "metadata": {},
   "outputs": [
    {
     "data": {
      "text/plain": [
       "['my', 'favorite', 'season', 'is', 'summer']"
      ]
     },
     "execution_count": 53,
     "metadata": {},
     "output_type": "execute_result"
    }
   ],
   "source": [
    "# split a string into a list of strings\n",
    "a.split()"
   ]
  },
  {
   "cell_type": "code",
   "execution_count": null,
   "metadata": {},
   "outputs": [],
   "source": [
    "Homework 1\n",
    "create a string variable, the value is your first name, \n",
    "count how many letters your first name has? print out the last letter of your first name"
   ]
  },
  {
   "cell_type": "code",
   "execution_count": null,
   "metadata": {},
   "outputs": [],
   "source": [
    "Homework 2\n",
    "tell me what did you have for breakfast by define a food string variable, \n",
    "for example: food = 'I had cereal for breakfast'\n",
    "then tell me what did you have for lunch by replacing the food variable\n",
    "for example: food = 'I had pizza for lunch'\n",
    "hint: use replace() function. "
   ]
  },
  {
   "cell_type": "code",
   "execution_count": null,
   "metadata": {},
   "outputs": [],
   "source": []
  },
  {
   "cell_type": "code",
   "execution_count": null,
   "metadata": {},
   "outputs": [],
   "source": []
  }
 ],
 "metadata": {
  "kernelspec": {
   "display_name": "Python 3",
   "language": "python",
   "name": "python3"
  },
  "language_info": {
   "codemirror_mode": {
    "name": "ipython",
    "version": 3
   },
   "file_extension": ".py",
   "mimetype": "text/x-python",
   "name": "python",
   "nbconvert_exporter": "python",
   "pygments_lexer": "ipython3",
   "version": "3.8.6"
  }
 },
 "nbformat": 4,
 "nbformat_minor": 4
}
