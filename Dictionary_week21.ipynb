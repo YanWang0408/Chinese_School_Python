{
 "cells": [
  {
   "cell_type": "markdown",
   "metadata": {},
   "source": [
    "# Lab session review"
   ]
  },
  {
   "cell_type": "code",
   "execution_count": null,
   "metadata": {},
   "outputs": [],
   "source": [
    "Step 1:\n",
    "Remove temp higher and equal to 200, remove scores lower \n",
    "and equal to -200. Print out the valid temperature list.\n",
    "\n",
    "Step 2:\n",
    "Find out the average temperature.\n",
    "\n",
    "Step 3:\n",
    "Find out the total number of temperatures are above the \n",
    "average, and the total number of temperatures are below the average."
   ]
  },
  {
   "cell_type": "code",
   "execution_count": 1,
   "metadata": {},
   "outputs": [
    {
     "name": "stdout",
     "output_type": "stream",
     "text": [
      "['65', '40', '45', '41', '42', '46', '48', '-300', '58', '58', '54', '56', '69', '64', '64', '58', '90', '52', '70', '205', '45', '50', '45', '47', '51', '53', '63', '63', '59', '61', '74', '69', '69', '63', '95', '57']\n"
     ]
    }
   ],
   "source": [
    "file = open('sensordata.txt')\n",
    "sensor = file.read().split()\n",
    "print(sensor)"
   ]
  },
  {
   "cell_type": "code",
   "execution_count": 2,
   "metadata": {},
   "outputs": [
    {
     "name": "stdout",
     "output_type": "stream",
     "text": [
      "[65, 40, 45, 41, 42, 46, 48, 58, 58, 54, 56, 69, 64, 64, 58, 90, 52, 70, 45, 50, 45, 47, 51, 53, 63, 63, 59, 61, 74, 69, 69, 63, 95, 57]\n"
     ]
    }
   ],
   "source": [
    "valid = []\n",
    "for s in sensor:\n",
    "    if int(s) >= 200 or int(s) <= -200:\n",
    "        continue\n",
    "    else:\n",
    "        valid.append(int(s))\n",
    "print(valid)"
   ]
  },
  {
   "cell_type": "code",
   "execution_count": null,
   "metadata": {},
   "outputs": [],
   "source": [
    "avg = sum/number_of_element\n",
    "1, 2, 3\n",
    "(1+2+3)/3"
   ]
  },
  {
   "cell_type": "code",
   "execution_count": 3,
   "metadata": {},
   "outputs": [
    {
     "name": "stdout",
     "output_type": "stream",
     "text": [
      "Average temperature is:  58.35294117647059\n"
     ]
    }
   ],
   "source": [
    "# avg temp\n",
    "sum_temp = 0\n",
    "for temp in valid:\n",
    "    sum_temp = sum_temp + temp\n",
    "    AverageTemp = sum_temp / len(valid)\n",
    "print(\"Average temperature is: \", AverageTemp)"
   ]
  },
  {
   "cell_type": "code",
   "execution_count": 4,
   "metadata": {},
   "outputs": [
    {
     "name": "stdout",
     "output_type": "stream",
     "text": [
      "The total number of temperature reading are above the average is:  15\n",
      "The total number of temperature reading are below the average is:  19\n"
     ]
    }
   ],
   "source": [
    "numAbove = 0\n",
    "numBelow = 0\n",
    "\n",
    "for temp in valid:\n",
    "    if temp > AverageTemp:\n",
    "        numAbove = numAbove + 1\n",
    "    else:\n",
    "        numBelow = numBelow + 1\n",
    "print(\"The total number of temperature reading are above the average is: \", numAbove)\n",
    "print(\"The total number of temperature reading are below the average is: \", numBelow)"
   ]
  },
  {
   "cell_type": "markdown",
   "metadata": {},
   "source": [
    "# dictionary"
   ]
  },
  {
   "cell_type": "code",
   "execution_count": null,
   "metadata": {},
   "outputs": [],
   "source": [
    "A dictionary is like a list, but more general. \n",
    "In a list, the indices have to be integers; in a dictionary they can be (almost) any type.\n",
    "\n",
    "You can think of a dictionary as a mapping between a set of indices (which are called keys)\n",
    "and a set of values. Each key maps to a value. The association of a key and a value is called\n",
    "a key-value pair or sometimes an item."
   ]
  },
  {
   "cell_type": "code",
   "execution_count": 5,
   "metadata": {},
   "outputs": [],
   "source": [
    "list1 = ['How', 'are', 'you']"
   ]
  },
  {
   "cell_type": "code",
   "execution_count": 14,
   "metadata": {},
   "outputs": [
    {
     "data": {
      "text/plain": [
       "'How'"
      ]
     },
     "execution_count": 14,
     "metadata": {},
     "output_type": "execute_result"
    }
   ],
   "source": [
    "list1[0]"
   ]
  },
  {
   "cell_type": "code",
   "execution_count": 10,
   "metadata": {},
   "outputs": [],
   "source": [
    "eng2ch = {}"
   ]
  },
  {
   "cell_type": "code",
   "execution_count": 11,
   "metadata": {},
   "outputs": [
    {
     "name": "stdout",
     "output_type": "stream",
     "text": [
      "{}\n"
     ]
    }
   ],
   "source": [
    "eng2ch = dict()\n",
    "print(eng2ch)"
   ]
  },
  {
   "cell_type": "code",
   "execution_count": 12,
   "metadata": {},
   "outputs": [
    {
     "name": "stdout",
     "output_type": "stream",
     "text": [
      "{'one': 'yi'}\n"
     ]
    }
   ],
   "source": [
    "#add items to the dictionary,you can use square brackets:\n",
    "eng2ch['one'] = 'yi'\n",
    "print(eng2ch)"
   ]
  },
  {
   "cell_type": "code",
   "execution_count": 13,
   "metadata": {},
   "outputs": [
    {
     "name": "stdout",
     "output_type": "stream",
     "text": [
      "{'one': 'yi', 'two': 'er', 'three': 'san'}\n"
     ]
    }
   ],
   "source": [
    "#This output format is also an input format. For example, you can create a new dictionary\n",
    "eng2ch = {'one': 'yi', 'two': 'er', 'three': 'san'}\n",
    "print(eng2ch)"
   ]
  },
  {
   "cell_type": "code",
   "execution_count": 16,
   "metadata": {},
   "outputs": [
    {
     "data": {
      "text/plain": [
       "'yi'"
      ]
     },
     "execution_count": 16,
     "metadata": {},
     "output_type": "execute_result"
    }
   ],
   "source": [
    "eng2ch['one']"
   ]
  },
  {
   "cell_type": "code",
   "execution_count": null,
   "metadata": {},
   "outputs": [],
   "source": [
    "#use the keys to look up the corresponding values"
   ]
  },
  {
   "cell_type": "code",
   "execution_count": 17,
   "metadata": {},
   "outputs": [
    {
     "name": "stdout",
     "output_type": "stream",
     "text": [
      "['yi', 'er', 'san']\n"
     ]
    }
   ],
   "source": [
    "ch = ['yi', 'er', 'san']\n",
    "print(ch)"
   ]
  },
  {
   "cell_type": "code",
   "execution_count": 18,
   "metadata": {},
   "outputs": [
    {
     "data": {
      "text/plain": [
       "'yi'"
      ]
     },
     "execution_count": 18,
     "metadata": {},
     "output_type": "execute_result"
    }
   ],
   "source": [
    "ch[0]"
   ]
  },
  {
   "cell_type": "code",
   "execution_count": 19,
   "metadata": {},
   "outputs": [
    {
     "data": {
      "text/plain": [
       "'yi'"
      ]
     },
     "execution_count": 19,
     "metadata": {},
     "output_type": "execute_result"
    }
   ],
   "source": [
    "eng2ch['one']"
   ]
  },
  {
   "cell_type": "code",
   "execution_count": 20,
   "metadata": {},
   "outputs": [
    {
     "data": {
      "text/plain": [
       "'san'"
      ]
     },
     "execution_count": 20,
     "metadata": {},
     "output_type": "execute_result"
    }
   ],
   "source": [
    "# san\n",
    "eng2ch['three']"
   ]
  },
  {
   "cell_type": "code",
   "execution_count": null,
   "metadata": {},
   "outputs": [],
   "source": [
    "Lists can appear as values in a dictionary. For example, if you were given a dictionary that\n",
    "maps from letters to frequencies,  Since there might be several letters with the same\n",
    "frequency, each value in the inverted dictionary should be a list of letters."
   ]
  },
  {
   "cell_type": "code",
   "execution_count": 22,
   "metadata": {},
   "outputs": [
    {
     "data": {
      "text/plain": [
       "[1, 2, 3, [1, 2, 3]]"
      ]
     },
     "execution_count": 22,
     "metadata": {},
     "output_type": "execute_result"
    }
   ],
   "source": [
    "my_list = [1, 2, 3, [1, 2, 3]]\n",
    "my_list"
   ]
  },
  {
   "cell_type": "code",
   "execution_count": 23,
   "metadata": {},
   "outputs": [
    {
     "name": "stdout",
     "output_type": "stream",
     "text": [
      "{'key1': [1, 2], 'key2': ['How', 'are', 'you']}\n"
     ]
    }
   ],
   "source": [
    "# Creating an empty dictionary \n",
    "my_dictionary = {} \n",
    "  \n",
    "# Adding list as value \n",
    "my_dictionary[\"key1\"] = [1, 2] \n",
    "my_dictionary[\"key2\"] = [\"How\", \"are\", \"you\"] \n",
    "\n",
    "print(my_dictionary)"
   ]
  },
  {
   "cell_type": "code",
   "execution_count": 25,
   "metadata": {},
   "outputs": [
    {
     "name": "stdout",
     "output_type": "stream",
     "text": [
      "{'apple': 2, 'orange': 3, 'pear': 1}\n"
     ]
    }
   ],
   "source": [
    "# Count items in the list and make it a dictionary\n",
    "fruits = ['apple','orange','apple','orange','orange','pear']\n",
    "my_fruits_dictionary = {x:fruits.count(x) for x in fruits}\n",
    "print (my_fruits_dictionary)"
   ]
  },
  {
   "cell_type": "code",
   "execution_count": 26,
   "metadata": {},
   "outputs": [
    {
     "name": "stdout",
     "output_type": "stream",
     "text": [
      "2\n"
     ]
    }
   ],
   "source": [
    "print(my_fruits_dictionary['apple'])"
   ]
  },
  {
   "cell_type": "code",
   "execution_count": null,
   "metadata": {},
   "outputs": [],
   "source": [
    "homework:\n",
    "    \n",
    "I attached a text file named letters.txt to this email. Read this file into your Jupyter Notebook.\n",
    "Read the content in letters.txt file to a list called letters. \n",
    "Create a dictionary from this list\n",
    "Count the number of times letter 'A' appears in letters list.\n",
    "\n",
    "Hint:\n",
    "1. use append() function to create a list\n",
    "2. refer to code line 25 to create a dictionary\n",
    "2. use the key('A') to look up the corresponding values\n",
    "\n",
    "Except answer:\n",
    "\n",
    "Letter A showed up 91 times."
   ]
  },
  {
   "cell_type": "code",
   "execution_count": null,
   "metadata": {},
   "outputs": [],
   "source": []
  },
  {
   "cell_type": "code",
   "execution_count": null,
   "metadata": {},
   "outputs": [],
   "source": []
  },
  {
   "cell_type": "code",
   "execution_count": null,
   "metadata": {},
   "outputs": [],
   "source": []
  }
 ],
 "metadata": {
  "kernelspec": {
   "display_name": "Python 3",
   "language": "python",
   "name": "python3"
  },
  "language_info": {
   "codemirror_mode": {
    "name": "ipython",
    "version": 3
   },
   "file_extension": ".py",
   "mimetype": "text/x-python",
   "name": "python",
   "nbconvert_exporter": "python",
   "pygments_lexer": "ipython3",
   "version": "3.8.6"
  }
 },
 "nbformat": 4,
 "nbformat_minor": 4
}
