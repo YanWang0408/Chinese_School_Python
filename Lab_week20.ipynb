{
 "cells": [
  {
   "cell_type": "code",
   "execution_count": null,
   "metadata": {},
   "outputs": [],
   "source": [
    "Homework review:\n",
    "\n",
    "I attached a text file named yelp_review.txt to this email. Read this file into your Jupyter Notebook.\n",
    "Print out the content in the file to a list called scores, Traverse each element in the scores list:\n",
    "remove scores higher than 5, remove scores lower than 1.\n",
    "\n",
    "Hint: remove outliers and convert string into int.\n",
    "   \n",
    "This is the expected answer:\n",
    "\n",
    "[4, 3, 2, 4, 3, 3, 2, 3, 4, 3, 3, 3, 4, 3, 4, 4, 4, 4] "
   ]
  },
  {
   "cell_type": "code",
   "execution_count": 2,
   "metadata": {},
   "outputs": [
    {
     "name": "stdout",
     "output_type": "stream",
     "text": [
      "['4', '3', '2', '4', '3', '3', '2', '3', '34', '4', '3', '1', '5', '3', '40', '3', '4', '-2', '3', '4', '4', '4', '4', '1', '-6', '999']\n"
     ]
    }
   ],
   "source": [
    "file = open(\"yelp_review.txt\")\n",
    "yelp = file.read().split()\n",
    "print(yelp)\n"
   ]
  },
  {
   "cell_type": "code",
   "execution_count": 3,
   "metadata": {},
   "outputs": [
    {
     "name": "stdout",
     "output_type": "stream",
     "text": [
      "[4, 3, 2, 4, 3, 3, 2, 3, 4, 3, 3, 3, 4, 3, 4, 4, 4, 4]\n"
     ]
    }
   ],
   "source": [
    "rev = []\n",
    "for y in yelp:\n",
    "    if int(y) >= 5 or int(y)<= 1:\n",
    "        continue\n",
    "    else:\n",
    "        rev.append(int(y))\n",
    "print(rev)"
   ]
  },
  {
   "cell_type": "markdown",
   "metadata": {},
   "source": [
    "sensordata.txt contains temperature data a sensor captured; you \n",
    "can see a screenshot of the file content on the right. I need your \n",
    "help to process these raw data. Read sensordata.txt file into your \n",
    "Jupyter Notebook.\n",
    "\n",
    "Step 1:\n",
    "Remove scores higher and equal to 200, remove scores lower \n",
    "and equal to -200. Print out the valid temperature list.\n",
    "\n",
    "Step 2:\n",
    "Find out the average temperature.\n",
    "\n",
    "Step 3:\n",
    "Find out the total number of temperatures are above the \n",
    "average, and the total number of temperatures are below the \n",
    "average.\n",
    "\n",
    "Expected answers:\n",
    "\n",
    "Step 1:\n",
    "[65, 40, 45, 41, 42, 46, 48, 58, 58, 54, 56, 69, 64, 64, 58, 90, 52, 70, 45, \n",
    "50, 45, 47, 51, 53, 63, 63, 59, 61, 74, 69, 69, 63, 95, 57]\n",
    "\n",
    "Step 2:\n",
    "Average temperature is: 58.35294117647059\n",
    "\n",
    "Step 3:\n",
    "The total number of temperature reading are above the average is: 15\n",
    "The total number of temperature reading are below the average is: 19"
   ]
  },
  {
   "cell_type": "code",
   "execution_count": 11,
   "metadata": {},
   "outputs": [
    {
     "name": "stdout",
     "output_type": "stream",
     "text": [
      "['65', '40', '45', '41', '42', '46', '48', '-300', '58', '58', '54', '56', '69', '64', '64', '58', '90', '52', '70', '205', '45', '50', '45', '47', '51', '53', '63', '63', '59', '61', '74', '69', '69', '63', '95', '57']\n"
     ]
    }
   ],
   "source": [
    "file = open('sensordata.txt')\n",
    "sensor = file.read().split()\n",
    "print(sensor)"
   ]
  },
  {
   "cell_type": "code",
   "execution_count": 12,
   "metadata": {},
   "outputs": [
    {
     "name": "stdout",
     "output_type": "stream",
     "text": [
      "[65, 40, 45, 41, 42, 46, 48, 58, 58, 54, 56, 69, 64, 64, 58, 90, 52, 70, 45, 50, 45, 47, 51, 53, 63, 63, 59, 61, 74, 69, 69, 63, 95, 57]\n"
     ]
    }
   ],
   "source": [
    "valid = []\n",
    "for s in sensor:\n",
    "    if int(s) >= 200 or int(s) <= -200:\n",
    "        continue\n",
    "    else:\n",
    "        valid.append(int(s))\n",
    "print(valid)"
   ]
  },
  {
   "cell_type": "code",
   "execution_count": 13,
   "metadata": {},
   "outputs": [
    {
     "name": "stdout",
     "output_type": "stream",
     "text": [
      "Average temperature is:  58.35294117647059\n"
     ]
    }
   ],
   "source": [
    "# avg temp\n",
    "sum = 0\n",
    "for temp in valid:\n",
    "    sum = sum + temp\n",
    "    AverageTemp = sum / len(valid)\n",
    "print(\"Average temperature is: \", AverageTemp)"
   ]
  },
  {
   "cell_type": "code",
   "execution_count": 14,
   "metadata": {},
   "outputs": [
    {
     "name": "stdout",
     "output_type": "stream",
     "text": [
      "The total number of temperature reading are above the average is:  15\n",
      "The total number of temperature reading are below the average is:  19\n"
     ]
    }
   ],
   "source": [
    "numAbove = 0\n",
    "numBelow = 0\n",
    "\n",
    "for temp in valid:\n",
    "    if temp > AverageTemp:\n",
    "        numAbove = numAbove + 1\n",
    "    else:\n",
    "        numBelow = numBelow + 1\n",
    "print(\"The total number of temperature reading are above the average is: \", numAbove)\n",
    "print(\"The total number of temperature reading are below the average is: \", numBelow)\n"
   ]
  },
  {
   "cell_type": "code",
   "execution_count": null,
   "metadata": {},
   "outputs": [],
   "source": []
  },
  {
   "cell_type": "code",
   "execution_count": null,
   "metadata": {},
   "outputs": [],
   "source": []
  }
 ],
 "metadata": {
  "kernelspec": {
   "display_name": "Python 3",
   "language": "python",
   "name": "python3"
  },
  "language_info": {
   "codemirror_mode": {
    "name": "ipython",
    "version": 3
   },
   "file_extension": ".py",
   "mimetype": "text/x-python",
   "name": "python",
   "nbconvert_exporter": "python",
   "pygments_lexer": "ipython3",
   "version": "3.8.6"
  }
 },
 "nbformat": 4,
 "nbformat_minor": 4
}
